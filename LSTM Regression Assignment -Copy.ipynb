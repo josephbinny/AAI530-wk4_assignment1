{
 "cells": [
  {
   "cell_type": "markdown",
   "id": "699648d0",
   "metadata": {},
   "source": [
    "# Long Short Term Memory Networks for IoT Prediction\n",
    "\n",
    "RNNs and LSTM models are very popular neural network architectures when working with sequential data, since they both carry some \"memory\" of previous inputs when predicting the next output. In this assignment we will continue to work with the Household Electricity Consumption dataset and use an LSTM model to predict the Global Active Power (GAP) from a sequence of previous GAP readings. You will build one model following the directions in this notebook closely, then you will be asked to make changes to that original model and analyze the effects that they had on the model performance. You will also be asked to compare the performance of your LSTM model to the linear regression predictor that you built in last week's assignment.\n",
    "\n",
    "## General Assignment Instructions\n",
    "\n",
    "These instructions are included in every assignment, to remind you of the coding standards for the class. Feel free to delete this cell after reading it. \n",
    "\n",
    "One sign of mature code is conforming to a style guide. We recommend the [Google Python Style Guide](https://google.github.io/styleguide/pyguide.html). If you use a different style guide, please include a cell with a link. \n",
    "\n",
    "Your code should be relatively easy-to-read, sensibly commented, and clean. Writing code is a messy process, so please be sure to edit your final submission. Remove any cells that are not needed or parts of cells that contain unnecessary code. Remove inessential `import` statements and make sure that all such statements are moved into the designated cell. \n",
    "\n",
    "When you save your notebook as a pdf, make sure that all cell output is visible (even error messages) as this will aid your instructor in grading your work.\n",
    "\n",
    "Make use of non-code cells for written commentary. These cells should be grammatical and clearly written. In some of these cells you will have questions to answer. The questions will be marked by a \"Q:\" and will have a corresponding \"A:\" spot for you. *Make sure to answer every question marked with a `Q:` for full credit.* "
   ]
  },
  {
   "cell_type": "code",
   "execution_count": 1,
   "id": "96422f5e",
   "metadata": {},
   "outputs": [],
   "source": [
    "import keras\n",
    "import pandas as pd\n",
    "import numpy as np\n",
    "import matplotlib.pyplot as plt\n",
    "import os\n",
    "\n",
    "# Setting seed for reproducibility\n",
    "np.random.seed(1234)  \n",
    "PYTHONHASHSEED = 0\n",
    "\n",
    "from sklearn import preprocessing\n",
    "from sklearn.metrics import confusion_matrix, recall_score, precision_score\n",
    "from sklearn.model_selection import train_test_split\n",
    "from keras.models import Sequential,load_model\n",
    "from keras.layers import Dense, Dropout, LSTM\n",
    "from keras.layers.core import Activation\n",
    "from keras.utils import pad_sequences"
   ]
  },
  {
   "cell_type": "code",
   "execution_count": 2,
   "id": "cb722f08",
   "metadata": {},
   "outputs": [],
   "source": [
    "#use this cell to import additional libraries or define helper functions"
   ]
  },
  {
   "cell_type": "markdown",
   "id": "93d897e4",
   "metadata": {},
   "source": [
    "## Load and prepare your data\n",
    "\n",
    "We'll once again be using the cleaned household electricity consumption data from the previous two assignments.\n",
    "\n",
    "Unlike when using Linear Regression to make our predictions for Global Active Power (GAP), LSTM requires that we have a pre-trained model when our predictive software is shipped (the ability to iterate on the model after it's put into production is another question for another day). Thus, we will train the model on a segment of our data and then measure its performance on simulated streaming data another segment of the data. Our dataset is very large, so for speed's sake, we will limit ourselves to 1% of the entire dataset.\n",
    "\n",
    "**TODO: Import your data, select the a random 1% of the dataset, and then split it 80/20 into training and validation sets (the test split will come from the training data as part of the tensorflow LSTM model call). HINT: Think carefully about how you do your train/validation split--does it make sense to randomize the data?**"
   ]
  },
  {
   "cell_type": "code",
   "execution_count": 3,
   "id": "4db3cf86",
   "metadata": {},
   "outputs": [
    {
     "name": "stderr",
     "output_type": "stream",
     "text": [
      "C:\\Users\\yousi\\AppData\\Local\\Temp\\ipykernel_112144\\3585972411.py:2: DtypeWarning: Columns (2,3,4,5,6,7) have mixed types. Specify dtype option on import or set low_memory=False.\n",
      "  df = pd.read_csv(\"household_power_consumption.txt\", delimiter=\";\")\n",
      "C:\\Users\\yousi\\AppData\\Local\\Temp\\ipykernel_112144\\3585972411.py:6: FutureWarning: In a future version, `df.iloc[:, i] = newvals` will attempt to set the values inplace instead of always setting a new array. To retain the old behavior, use either `df[df.columns[i]] = newvals` or, if columns are non-unique, `df.isetitem(i, newvals)`\n",
      "  df.iloc[:,2:-1] = df.iloc[:,2:-1].apply(pd.to_numeric)\n"
     ]
    }
   ],
   "source": [
    "#Load your data into a pandas dataframe here\n",
    "df = pd.read_csv(\"household_power_consumption.txt\", delimiter=\";\")\n",
    "df[\"Datetime\"] = pd.to_datetime(df[\"Date\"] + \" \" + df[\"Time\"])\n",
    "df.replace(\"?\", np.nan, inplace=True)\n",
    "df.dropna(inplace=True)\n",
    "df.iloc[:,2:-1] = df.iloc[:,2:-1].apply(pd.to_numeric)\n",
    "df['Date'] = df['Datetime'].dt.date\n",
    "df['Time'] = df['Datetime'].dt.time"
   ]
  },
  {
   "cell_type": "code",
   "execution_count": 4,
   "id": "b4a7845e",
   "metadata": {},
   "outputs": [],
   "source": [
    "#create your training and validation sets here\n",
    "\n",
    "#assign size for data subset\n",
    "one_percent_len = int(len(df)*.01) # this tells us how big our smaller dataset will be\n",
    "\n",
    "#take random data subset\n",
    "# the following picks the first index of a random 1% of the data\n",
    "starting_index = np.random.randint(0,len(df)-one_percent_len) # subtract the range from the 1% len to stay in the range\n",
    "df_smaller = df.iloc[starting_index:starting_index+one_percent_len,:]\n",
    "\n",
    "#split data subset 80/20 for train/validation\n",
    "\n",
    "train_df = df_smaller.iloc[:int(len(df_smaller)*.8),:]\n",
    "val_df = df_smaller.iloc[int(len(df_smaller)*.8):,:]"
   ]
  },
  {
   "cell_type": "code",
   "execution_count": 5,
   "id": "4d0a7b27",
   "metadata": {},
   "outputs": [],
   "source": [
    "#reset the indices for cleanliness\n",
    "train_df = train_df.reset_index()\n",
    "val_df = val_df.reset_index()"
   ]
  },
  {
   "cell_type": "markdown",
   "id": "b4a34258",
   "metadata": {},
   "source": [
    "Next we need to create our input and output sequences. In the lab session this week, we used an LSTM model to make a binary prediction, but LSTM models are very flexible in what they can output: we can also use them to predict a single real-numbered output (we can even use them to predict a sequence of outputs). Here we will train a model to predict a single real-numbered output such that we can compare our model directly to the linear regression model from last week.\n",
    "\n",
    "**TODO: Create a nested list structure for the training data, with a sequence of GAP measurements as the input and the GAP measurement at your predictive horizon as your expected output**"
   ]
  },
  {
   "cell_type": "code",
   "execution_count": 6,
   "id": "807b5117",
   "metadata": {},
   "outputs": [],
   "source": [
    "seq_arrays = []\n",
    "seq_labs = []"
   ]
  },
  {
   "cell_type": "code",
   "execution_count": 7,
   "id": "17b6475e",
   "metadata": {
    "scrolled": false
   },
   "outputs": [],
   "source": [
    "# we'll start out with a 20 minute input sequence and a one minute predictive horizon\n",
    "seq_length = 20\n",
    "ph = 1\n",
    "\n",
    "feat_cols = ['Global_active_power']\n",
    "\n",
    "#create list of sequence length GAP readings\n",
    "for curr_time in range(len(train_df)-(seq_length+ph)):\n",
    "    seq_arrays.append(train_df[feat_cols].iloc[curr_time:curr_time+seq_length].to_numpy())\n",
    "    seq_labs.append(train_df[feat_cols].iloc[curr_time+seq_length+ph].to_numpy()[0])\n",
    "        \n",
    "\n",
    "#convert to numpy arrays and floats to appease keras/tensorflow        \n",
    "seq_arrays = np.array(seq_arrays, dtype = object).astype(np.float32)\n",
    "seq_labs = np.array(seq_labs, dtype = object).astype(np.float32)"
   ]
  },
  {
   "cell_type": "code",
   "execution_count": 8,
   "id": "2f5c2abf",
   "metadata": {},
   "outputs": [],
   "source": [
    "assert(seq_arrays.shape == (len(train_df)-seq_length-ph,seq_length, len(feat_cols)))\n",
    "assert(seq_labs.shape == (len(train_df)-seq_length-ph,))"
   ]
  },
  {
   "cell_type": "code",
   "execution_count": 9,
   "id": "a16c46a0",
   "metadata": {},
   "outputs": [
    {
     "data": {
      "text/plain": [
       "(16372, 20, 1)"
      ]
     },
     "execution_count": 9,
     "metadata": {},
     "output_type": "execute_result"
    }
   ],
   "source": [
    "seq_arrays.shape"
   ]
  },
  {
   "cell_type": "markdown",
   "id": "cfb66dc2",
   "metadata": {},
   "source": [
    "**Q: What is the function of the assert statements in the above cell? Why do we use assertions in our code?**\n",
    "\n",
    "A: This keyword is used to test a condition. It throws out an AssertionError when the condition evaluates to False. It is a helpful tool in debugging code.\n",
    "\n",
    "## Model Training\n",
    "\n",
    "We will begin with a model architecture very similar to the model we built in the lab session. We will have two LSTM layers, with 5 and 3 hidden units respectively, and we will apply dropout after each LSTM layer. However, we will use a linear final layer and MSE for our loss function, since our output is continuous instead of binary.\n",
    "\n",
    "**TODO: Fill in all values marked with a ?? in the cell below**"
   ]
  },
  {
   "cell_type": "code",
   "execution_count": 10,
   "id": "4a57c132",
   "metadata": {},
   "outputs": [
    {
     "name": "stdout",
     "output_type": "stream",
     "text": [
      "Model: \"sequential\"\n",
      "_________________________________________________________________\n",
      " Layer (type)                Output Shape              Param #   \n",
      "=================================================================\n",
      " lstm (LSTM)                 (None, 20, 5)             140       \n",
      "                                                                 \n",
      " dropout (Dropout)           (None, 20, 5)             0         \n",
      "                                                                 \n",
      " lstm_1 (LSTM)               (None, 3)                 108       \n",
      "                                                                 \n",
      " dropout_1 (Dropout)         (None, 3)                 0         \n",
      "                                                                 \n",
      " dense (Dense)               (None, 1)                 4         \n",
      "                                                                 \n",
      " activation (Activation)     (None, 1)                 0         \n",
      "                                                                 \n",
      "=================================================================\n",
      "Total params: 252\n",
      "Trainable params: 252\n",
      "Non-trainable params: 0\n",
      "_________________________________________________________________\n",
      "None\n",
      "Epoch 1/100\n",
      "32/32 - 5s - loss: 1.6666 - mse: 1.6666 - val_loss: 0.1928 - val_mse: 0.1928 - 5s/epoch - 160ms/step\n",
      "Epoch 2/100\n",
      "32/32 - 1s - loss: 0.6142 - mse: 0.6142 - val_loss: 0.1455 - val_mse: 0.1455 - 739ms/epoch - 23ms/step\n",
      "Epoch 3/100\n",
      "32/32 - 1s - loss: 0.5159 - mse: 0.5159 - val_loss: 0.1431 - val_mse: 0.1431 - 911ms/epoch - 28ms/step\n",
      "Epoch 4/100\n",
      "32/32 - 1s - loss: 0.4914 - mse: 0.4914 - val_loss: 0.1352 - val_mse: 0.1352 - 998ms/epoch - 31ms/step\n",
      "Epoch 5/100\n",
      "32/32 - 1s - loss: 0.4642 - mse: 0.4642 - val_loss: 0.1339 - val_mse: 0.1339 - 1s/epoch - 32ms/step\n",
      "Epoch 6/100\n",
      "32/32 - 1s - loss: 0.4516 - mse: 0.4516 - val_loss: 0.1264 - val_mse: 0.1264 - 1s/epoch - 32ms/step\n",
      "Epoch 7/100\n",
      "32/32 - 1s - loss: 0.4432 - mse: 0.4432 - val_loss: 0.1237 - val_mse: 0.1237 - 1s/epoch - 32ms/step\n",
      "Epoch 8/100\n",
      "32/32 - 1s - loss: 0.4232 - mse: 0.4232 - val_loss: 0.1244 - val_mse: 0.1244 - 1s/epoch - 31ms/step\n",
      "Epoch 9/100\n",
      "32/32 - 1s - loss: 0.4147 - mse: 0.4147 - val_loss: 0.1248 - val_mse: 0.1248 - 1s/epoch - 39ms/step\n",
      "Epoch 10/100\n",
      "32/32 - 1s - loss: 0.3780 - mse: 0.3780 - val_loss: 0.1216 - val_mse: 0.1216 - 1s/epoch - 43ms/step\n",
      "Epoch 11/100\n",
      "32/32 - 1s - loss: 0.3890 - mse: 0.3890 - val_loss: 0.1208 - val_mse: 0.1208 - 1s/epoch - 36ms/step\n",
      "Epoch 12/100\n",
      "32/32 - 1s - loss: 0.3929 - mse: 0.3929 - val_loss: 0.1184 - val_mse: 0.1184 - 1s/epoch - 33ms/step\n",
      "Epoch 13/100\n",
      "32/32 - 1s - loss: 0.3653 - mse: 0.3653 - val_loss: 0.1212 - val_mse: 0.1212 - 963ms/epoch - 30ms/step\n",
      "Epoch 14/100\n",
      "32/32 - 1s - loss: 0.3682 - mse: 0.3682 - val_loss: 0.1216 - val_mse: 0.1216 - 963ms/epoch - 30ms/step\n",
      "Epoch 15/100\n",
      "32/32 - 1s - loss: 0.3549 - mse: 0.3549 - val_loss: 0.1163 - val_mse: 0.1163 - 1s/epoch - 33ms/step\n",
      "Epoch 16/100\n",
      "32/32 - 1s - loss: 0.3651 - mse: 0.3651 - val_loss: 0.1140 - val_mse: 0.1140 - 1s/epoch - 36ms/step\n",
      "Epoch 17/100\n",
      "32/32 - 1s - loss: 0.3571 - mse: 0.3571 - val_loss: 0.1166 - val_mse: 0.1166 - 1s/epoch - 36ms/step\n",
      "Epoch 18/100\n",
      "32/32 - 1s - loss: 0.3568 - mse: 0.3568 - val_loss: 0.1128 - val_mse: 0.1128 - 1s/epoch - 33ms/step\n",
      "Epoch 19/100\n",
      "32/32 - 1s - loss: 0.3593 - mse: 0.3593 - val_loss: 0.1161 - val_mse: 0.1161 - 969ms/epoch - 30ms/step\n",
      "Epoch 20/100\n",
      "32/32 - 1s - loss: 0.3502 - mse: 0.3502 - val_loss: 0.1161 - val_mse: 0.1161 - 983ms/epoch - 31ms/step\n",
      "Epoch 21/100\n",
      "32/32 - 1s - loss: 0.3713 - mse: 0.3713 - val_loss: 0.1141 - val_mse: 0.1141 - 964ms/epoch - 30ms/step\n",
      "Epoch 22/100\n",
      "32/32 - 1s - loss: 0.3422 - mse: 0.3422 - val_loss: 0.1135 - val_mse: 0.1135 - 967ms/epoch - 30ms/step\n",
      "Epoch 23/100\n",
      "32/32 - 1s - loss: 0.3537 - mse: 0.3537 - val_loss: 0.1126 - val_mse: 0.1126 - 1s/epoch - 32ms/step\n",
      "Epoch 24/100\n",
      "32/32 - 1s - loss: 0.3522 - mse: 0.3522 - val_loss: 0.1144 - val_mse: 0.1144 - 1s/epoch - 35ms/step\n",
      "Epoch 25/100\n",
      "32/32 - 1s - loss: 0.3501 - mse: 0.3501 - val_loss: 0.1204 - val_mse: 0.1204 - 1s/epoch - 37ms/step\n",
      "Epoch 26/100\n",
      "32/32 - 1s - loss: 0.3471 - mse: 0.3471 - val_loss: 0.1115 - val_mse: 0.1115 - 1s/epoch - 35ms/step\n",
      "Epoch 27/100\n",
      "32/32 - 1s - loss: 0.3546 - mse: 0.3546 - val_loss: 0.1157 - val_mse: 0.1157 - 979ms/epoch - 31ms/step\n",
      "Epoch 28/100\n",
      "32/32 - 1s - loss: 0.3418 - mse: 0.3418 - val_loss: 0.1111 - val_mse: 0.1111 - 1s/epoch - 32ms/step\n",
      "Epoch 29/100\n",
      "32/32 - 1s - loss: 0.3502 - mse: 0.3502 - val_loss: 0.1138 - val_mse: 0.1138 - 945ms/epoch - 30ms/step\n",
      "Epoch 30/100\n",
      "32/32 - 1s - loss: 0.3601 - mse: 0.3601 - val_loss: 0.1110 - val_mse: 0.1110 - 966ms/epoch - 30ms/step\n",
      "Epoch 31/100\n",
      "32/32 - 1s - loss: 0.3543 - mse: 0.3543 - val_loss: 0.1113 - val_mse: 0.1113 - 936ms/epoch - 29ms/step\n",
      "Epoch 32/100\n",
      "32/32 - 1s - loss: 0.3480 - mse: 0.3480 - val_loss: 0.1158 - val_mse: 0.1158 - 957ms/epoch - 30ms/step\n",
      "Epoch 33/100\n",
      "32/32 - 1s - loss: 0.3486 - mse: 0.3486 - val_loss: 0.1173 - val_mse: 0.1173 - 976ms/epoch - 30ms/step\n",
      "Epoch 34/100\n",
      "32/32 - 1s - loss: 0.3522 - mse: 0.3522 - val_loss: 0.1088 - val_mse: 0.1088 - 984ms/epoch - 31ms/step\n",
      "Epoch 35/100\n",
      "32/32 - 1s - loss: 0.3582 - mse: 0.3582 - val_loss: 0.1126 - val_mse: 0.1126 - 1s/epoch - 31ms/step\n",
      "Epoch 36/100\n",
      "32/32 - 1s - loss: 0.3454 - mse: 0.3454 - val_loss: 0.1106 - val_mse: 0.1106 - 992ms/epoch - 31ms/step\n",
      "Epoch 37/100\n",
      "32/32 - 1s - loss: 0.3464 - mse: 0.3464 - val_loss: 0.1094 - val_mse: 0.1094 - 987ms/epoch - 31ms/step\n",
      "Epoch 38/100\n",
      "32/32 - 1s - loss: 0.3407 - mse: 0.3407 - val_loss: 0.1068 - val_mse: 0.1068 - 1s/epoch - 31ms/step\n",
      "Epoch 39/100\n",
      "32/32 - 1s - loss: 0.3545 - mse: 0.3545 - val_loss: 0.1102 - val_mse: 0.1102 - 984ms/epoch - 31ms/step\n",
      "Epoch 40/100\n",
      "32/32 - 1s - loss: 0.3498 - mse: 0.3498 - val_loss: 0.1257 - val_mse: 0.1257 - 1s/epoch - 35ms/step\n",
      "Epoch 41/100\n",
      "32/32 - 1s - loss: 0.3503 - mse: 0.3503 - val_loss: 0.1094 - val_mse: 0.1094 - 1s/epoch - 35ms/step\n",
      "Epoch 42/100\n",
      "32/32 - 1s - loss: 0.3432 - mse: 0.3432 - val_loss: 0.1197 - val_mse: 0.1197 - 1s/epoch - 32ms/step\n",
      "Epoch 43/100\n",
      "32/32 - 1s - loss: 0.3422 - mse: 0.3422 - val_loss: 0.1131 - val_mse: 0.1131 - 971ms/epoch - 30ms/step\n",
      "Epoch 44/100\n",
      "32/32 - 1s - loss: 0.3490 - mse: 0.3490 - val_loss: 0.1114 - val_mse: 0.1114 - 1000ms/epoch - 31ms/step\n",
      "Epoch 45/100\n",
      "32/32 - 1s - loss: 0.3380 - mse: 0.3380 - val_loss: 0.1096 - val_mse: 0.1096 - 1s/epoch - 32ms/step\n",
      "Epoch 46/100\n",
      "32/32 - 1s - loss: 0.3492 - mse: 0.3492 - val_loss: 0.1101 - val_mse: 0.1101 - 991ms/epoch - 31ms/step\n",
      "Epoch 47/100\n",
      "32/32 - 1s - loss: 0.3541 - mse: 0.3541 - val_loss: 0.1138 - val_mse: 0.1138 - 1s/epoch - 32ms/step\n",
      "Epoch 48/100\n",
      "32/32 - 1s - loss: 0.3483 - mse: 0.3483 - val_loss: 0.1107 - val_mse: 0.1107 - 980ms/epoch - 31ms/step\n",
      "dict_keys(['loss', 'mse', 'val_loss', 'val_mse'])\n"
     ]
    }
   ],
   "source": [
    "# define path to save model\n",
    "model_path = 'LSTM_model1.h5'\n",
    "\n",
    "# build the network\n",
    "nb_features = seq_arrays.shape[2]\n",
    "nb_out = 1 # since we're predicting one value, Global_active_power\n",
    "\n",
    "model = Sequential()\n",
    "\n",
    "#add first LSTM layer\n",
    "model.add(LSTM(\n",
    "         input_shape=(seq_length, nb_features),\n",
    "         units=5, \n",
    "         return_sequences=True))\n",
    "model.add(Dropout(0.2)) \n",
    "\n",
    "# add second LSTM layer\n",
    "model.add(LSTM(\n",
    "          units=3,\n",
    "          return_sequences=False))\n",
    "model.add(Dropout(0.2))\n",
    "model.add(Dense(units=nb_out))\n",
    "model.add(Activation(\"linear\")) \n",
    "optimizer = keras.optimizers.Adam(learning_rate = 0.01)\n",
    "model.compile(loss='mean_squared_error', optimizer=optimizer,metrics=['mse'])\n",
    "\n",
    "print(model.summary())\n",
    "\n",
    "# fit the network\n",
    "history = model.fit(seq_arrays, seq_labs, epochs=100, batch_size=500, validation_split=0.05, verbose=2,\n",
    "          callbacks = [keras.callbacks.EarlyStopping(monitor='val_loss', min_delta=0, patience=10, verbose=0, mode='min'),\n",
    "                       keras.callbacks.ModelCheckpoint(model_path,monitor='val_loss', save_best_only=True, mode='min', verbose=0)]\n",
    "          )\n",
    "\n",
    "# list all data in history\n",
    "print(history.history.keys())"
   ]
  },
  {
   "cell_type": "markdown",
   "id": "1c5dd990",
   "metadata": {},
   "source": [
    "We will use the code from the book to visualize our training progress and model performance"
   ]
  },
  {
   "cell_type": "code",
   "execution_count": 11,
   "id": "18d4d9ec",
   "metadata": {},
   "outputs": [
    {
     "data": {
      "image/png": "[encoded data removed]",
      "text/plain": [
       "<Figure size 720x720 with 1 Axes>"
      ]
     },
     "metadata": {
      "needs_background": "light"
     },
     "output_type": "display_data"
    },
    {
     "data": {
      "image/png": "[encoded data removed]",
      "text/plain": [
       "<Figure size 720x720 with 1 Axes>"
      ]
     },
     "metadata": {
      "needs_background": "light"
     },
     "output_type": "display_data"
    }
   ],
   "source": [
    "# summarize history for MSE\n",
    "fig_acc = plt.figure(figsize=(10, 10))\n",
    "plt.plot(history.history['mse'])\n",
    "plt.plot(history.history['val_mse'])\n",
    "plt.title('model MSE')\n",
    "plt.ylabel('MSE')\n",
    "plt.xlabel('epoch')\n",
    "plt.legend(['train', 'test'], loc='upper left')\n",
    "plt.show()\n",
    "fig_acc.savefig(\"LSTM_mse1.png\")\n",
    "\n",
    "# summarize history for Loss\n",
    "fig_acc = plt.figure(figsize=(10, 10))\n",
    "plt.plot(history.history['loss'])\n",
    "plt.plot(history.history['val_loss'])\n",
    "plt.title('model loss')\n",
    "plt.ylabel('loss')\n",
    "plt.xlabel('epoch')\n",
    "plt.legend(['train', 'test'], loc='upper left')\n",
    "plt.show()\n",
    "fig_acc.savefig(\"LSTM_loss1.png\")\n"
   ]
  },
  {
   "cell_type": "markdown",
   "id": "a0522509",
   "metadata": {},
   "source": [
    "## Validating our model\n",
    "\n",
    "Now we need to create our simulated streaming validation set to test our model \"in production\". With our linear regression models, we were able to begin making predictions with only two datapoints, but the LSTM model requires an input sequence of *seq_length* to make a prediction. We can get around this limitation by \"padding\" our inputs when they are too short.\n",
    "\n",
    "**TODO: create a nested list structure for the validation data, with a sequence of GAP measurements as the input and the GAP measurement at your predictive horizon as your expected output. Begin your predictions after only two GAP measurements are available, and check out [this keras function](https://www.tensorflow.org/api_docs/python/tf/keras/utils/pad_sequences) to automatically pad sequences that are too short.**\n",
    "\n",
    "**Q: Describe the pad_sequences function and how it manages sequences of variable length. What does the \"padding\" argument determine, and which setting makes the most sense for our use case here?**\n",
    "\n",
    "A: The pad_sequences function from Keras takes a list of lists of integers and pads those inner lists to all be of the same size (by defaut, the size of the longest inner list or longest row vector) and returns it as a 2D Numpy array. The \"padding\" arguemnt takes two options \"pre\" and \"post\". It adds values for the shorter inner lists to make them of the same size as the longest list. If \"pre\" is chosen which is the default, it adds \"value\" in the beginning until the row reaches the max length. If \"post\" is chosen, it adds the padding in the end of the row. The default padding value is 0 but can be changed. pre-padding makes most sense in our case as it just tells the LSTM model to not learn anything from previous states such that the processing is done only on the actual values in the end of the rows. "
   ]
  },
  {
   "cell_type": "code",
   "execution_count": 12,
   "id": "823ea44c",
   "metadata": {},
   "outputs": [],
   "source": [
    "val_arrays = []\n",
    "val_labs = []\n",
    "\n",
    "#create list of GAP readings starting with a minimum of two readings\n",
    "for curr_time in range(2, len(val_df)-ph+1):\n",
    "    if curr_time < seq_length:\n",
    "        # I wasn't able to get the pad_sequences function to work so I used a different way to pad with zeros in the front\n",
    "        val_arrays.append(np.append([0.]*(seq_length-curr_time),val_df[feat_cols].iloc[:curr_time].to_numpy()).reshape(-1,1))\n",
    "    else:\n",
    "        val_arrays.append(val_df[feat_cols].iloc[curr_time-seq_length:curr_time].to_numpy())\n",
    "    val_labs.append(val_df[feat_cols].iloc[curr_time+ph-1][0])\n",
    "\n",
    "# use the pad_sequences function on your input sequences\n",
    "# remember that we will later want our datatype to be np.float32 \n",
    "val_arrays = np.array(val_arrays, dtype = object).astype(np.float32)\n",
    "# val_arrays = pad_sequences(val_arrays)\n",
    "\n",
    "#convert labels to numpy arrays and floats to appease keras/tensorflow\n",
    "val_labs = np.array(val_labs, dtype = object).astype(np.float32)\n"
   ]
  },
  {
   "cell_type": "markdown",
   "id": "a553f881",
   "metadata": {},
   "source": [
    "We will now run this validation data through our LSTM model and visualize its performance like we did on the linear regression data."
   ]
  },
  {
   "cell_type": "code",
   "execution_count": 13,
   "id": "eaaf0946",
   "metadata": {},
   "outputs": [
    {
     "name": "stdout",
     "output_type": "stream",
     "text": [
      "129/129 - 0s - loss: 0.1223 - mse: 0.1223 - 489ms/epoch - 4ms/step\n",
      "\n",
      "MSE: 0.12227003276348114\n",
      "129/129 [==============================] - 2s 5ms/step\n"
     ]
    },
    {
     "data": {
      "image/png": "[encoded data removed]",
      "text/plain": [
       "<Figure size 720x360 with 1 Axes>"
      ]
     },
     "metadata": {
      "needs_background": "light"
     },
     "output_type": "display_data"
    }
   ],
   "source": [
    "scores_test = model.evaluate(val_arrays, val_labs, verbose=2)\n",
    "print('\\nMSE: {}'.format(scores_test[1]))\n",
    "\n",
    "y_pred_test = model.predict(val_arrays)\n",
    "y_true_test = val_labs\n",
    "\n",
    "test_set = pd.DataFrame(y_pred_test)\n",
    "test_set.to_csv('submit_test.csv', index = None)\n",
    "\n",
    "# Plot the predicted data vs. the actual data\n",
    "# we will limit our plot to the first 200 predictions for better visualization\n",
    "fig_verify = plt.figure(figsize=(10, 5))\n",
    "plt.plot(y_pred_test[-500:], label = 'Predicted Value')\n",
    "plt.plot(y_true_test[-500:], label = 'Actual Value')\n",
    "plt.title('Global Active Power Prediction - Last 500 Points', fontsize=22, fontweight='bold')\n",
    "plt.ylabel('value')\n",
    "plt.xlabel('row')\n",
    "plt.legend()\n",
    "plt.show()\n",
    "fig_verify.savefig(\"model_regression_verify.png\")"
   ]
  },
  {
   "cell_type": "markdown",
   "id": "fb5fcbe0",
   "metadata": {},
   "source": [
    "**Q: How did your model perform? What can you tell about the model from the loss curves? What could we do to try to improve the model?**\n",
    "\n",
    "A: The model seems to have performed wonderfully here. it underestimated some spikes but it otherwie follows the trend great. This is also because we're only predicting a minute in the future so it's easier for it to predict it.\n",
    "\n",
    "\n",
    "## Model Optimization\n",
    "\n",
    "Now it's your turn to build an LSTM-based model in hopes of improving performance on this training set. Changes that you might consider include:\n",
    "\n",
    "- Add more variables to the input sequences\n",
    "- Change the optimizer and/or adjust the learning rate\n",
    "- Change the sequence length and/or the predictive horizon\n",
    "- Change the number of hidden layers in each of the LSTM layers\n",
    "- Change the model architecture altogether--think about adding convolutional layers, linear layers, additional regularization, creating embeddings for the input data, changing the loss function, etc.\n",
    "\n",
    "There isn't any minimum performance increase or number of changes that need to be made, but I want to see that you have tried some different things. Remember that building and optimizing deep learning networks is an art and can be very difficult, so don't make yourself crazy trying to optimize for this assignment.\n",
    "\n",
    "**Q: What changes are you going to try with your model? Why do you think these changes could improve model performance?**\n",
    "\n",
    "A: I'm going to add a second variable and normalize the data and mess with the architecture of the LSTM. Normalizing the inputs usually help achieve convergence faster and possibly more accurately. Adding a second variable gives more info to the model that helps it find relationships between the features and the target variable. Changing the architecture could definitely help achieve better performance. Adding more units would help find more complex correlations in the data."
   ]
  },
  {
   "cell_type": "code",
   "execution_count": 14,
   "id": "e50afded",
   "metadata": {
    "scrolled": true
   },
   "outputs": [],
   "source": [
    "# play with your ideas for optimization here\n",
    "# define path to save model\n",
    "\n",
    "seq_arrays = []\n",
    "seq_labs = []\n",
    "\n",
    "seq_length = 20\n",
    "ph = 1\n",
    "\n",
    "feat_cols = ['Global_active_power', \"Voltage\"]\n",
    "\n",
    "#create list of sequence length GAP readings\n",
    "for curr_time in range(len(train_df)-(seq_length+ph)):\n",
    "    seq_arrays.append(train_df[feat_cols].iloc[curr_time:curr_time+seq_length].to_numpy())\n",
    "    seq_labs.append(train_df[feat_cols].iloc[curr_time+seq_length+ph].to_numpy()[0])\n",
    "        \n",
    "\n",
    "#convert to numpy arrays and floats to appease keras/tensorflow        \n",
    "seq_arrays = np.array(seq_arrays, dtype = object).astype(np.float32)\n",
    "seq_labs = np.array(seq_labs, dtype = object).astype(np.float32)"
   ]
  },
  {
   "cell_type": "code",
   "execution_count": 15,
   "id": "2cf62e52",
   "metadata": {},
   "outputs": [],
   "source": [
    "val_arrays = []\n",
    "val_labs = []\n",
    "\n",
    "#create list of GAP readings starting with a minimum of two readings\n",
    "for curr_time in range(2, len(val_df)-ph+1):\n",
    "    if curr_time < seq_length:\n",
    "        # I wasn't able to get the pad_sequences function to work so I used a different way to pad with zeros in the front\n",
    "        val_arrays.append(np.vstack((np.zeros((seq_length-curr_time,len(feat_cols)))*(seq_length-curr_time),\n",
    "                                    val_df[feat_cols].iloc[:curr_time].to_numpy())))\n",
    "    else:\n",
    "        val_arrays.append(val_df[feat_cols].iloc[curr_time-seq_length:curr_time].to_numpy())\n",
    "    val_labs.append(val_df[feat_cols].iloc[curr_time+ph-1][0])\n",
    "\n",
    "# use the pad_sequences function on your input sequences\n",
    "# remember that we will later want our datatype to be np.float32 \n",
    "val_arrays = np.array(val_arrays, dtype = object).astype(np.float32)\n",
    "# val_arrays = pad_sequences(val_arrays)\n",
    "\n",
    "#convert labels to numpy arrays and floats to appease keras/tensorflow\n",
    "val_labs = np.array(val_labs, dtype = object).astype(np.float32)\n"
   ]
  },
  {
   "cell_type": "code",
   "execution_count": 16,
   "id": "2a484bea",
   "metadata": {},
   "outputs": [
    {
     "name": "stdout",
     "output_type": "stream",
     "text": [
      "Model: \"sequential_1\"\n",
      "_________________________________________________________________\n",
      " Layer (type)                Output Shape              Param #   \n",
      "=================================================================\n",
      " lstm_2 (LSTM)               (None, 20, 10)            520       \n",
      "                                                                 \n",
      " dropout_2 (Dropout)         (None, 20, 10)            0         \n",
      "                                                                 \n",
      " lstm_3 (LSTM)               (None, 10)                840       \n",
      "                                                                 \n",
      " dropout_3 (Dropout)         (None, 10)                0         \n",
      "                                                                 \n",
      " dense_1 (Dense)             (None, 1)                 11        \n",
      "                                                                 \n",
      " activation_1 (Activation)   (None, 1)                 0         \n",
      "                                                                 \n",
      "=================================================================\n",
      "Total params: 1,371\n",
      "Trainable params: 1,371\n",
      "Non-trainable params: 0\n",
      "_________________________________________________________________\n",
      "None\n",
      "Epoch 1/100\n",
      "32/32 - 6s - loss: 2.1840 - mse: 2.1840 - val_loss: 0.9194 - val_mse: 0.9194 - 6s/epoch - 199ms/step\n",
      "Epoch 2/100\n",
      "32/32 - 1s - loss: 1.2506 - mse: 1.2506 - val_loss: 0.2665 - val_mse: 0.2665 - 1s/epoch - 34ms/step\n",
      "Epoch 3/100\n",
      "32/32 - 1s - loss: 0.5686 - mse: 0.5686 - val_loss: 0.2247 - val_mse: 0.2247 - 1s/epoch - 38ms/step\n",
      "Epoch 4/100\n",
      "32/32 - 1s - loss: 0.4386 - mse: 0.4386 - val_loss: 0.1617 - val_mse: 0.1617 - 1s/epoch - 39ms/step\n",
      "Epoch 5/100\n",
      "32/32 - 1s - loss: 0.3984 - mse: 0.3984 - val_loss: 0.1654 - val_mse: 0.1654 - 1s/epoch - 39ms/step\n",
      "Epoch 6/100\n",
      "32/32 - 1s - loss: 0.3830 - mse: 0.3830 - val_loss: 0.1506 - val_mse: 0.1506 - 1s/epoch - 40ms/step\n",
      "Epoch 7/100\n",
      "32/32 - 1s - loss: 0.3588 - mse: 0.3588 - val_loss: 0.1664 - val_mse: 0.1664 - 1s/epoch - 39ms/step\n",
      "Epoch 8/100\n",
      "32/32 - 1s - loss: 0.3561 - mse: 0.3561 - val_loss: 0.1393 - val_mse: 0.1393 - 1s/epoch - 39ms/step\n",
      "Epoch 9/100\n",
      "32/32 - 1s - loss: 0.3379 - mse: 0.3379 - val_loss: 0.1489 - val_mse: 0.1489 - 1s/epoch - 37ms/step\n",
      "Epoch 10/100\n",
      "32/32 - 1s - loss: 0.3456 - mse: 0.3456 - val_loss: 0.1372 - val_mse: 0.1372 - 1s/epoch - 39ms/step\n",
      "Epoch 11/100\n",
      "32/32 - 1s - loss: 0.3344 - mse: 0.3344 - val_loss: 0.1320 - val_mse: 0.1320 - 1s/epoch - 40ms/step\n",
      "Epoch 12/100\n",
      "32/32 - 1s - loss: 0.3219 - mse: 0.3219 - val_loss: 0.1368 - val_mse: 0.1368 - 1s/epoch - 38ms/step\n",
      "Epoch 13/100\n",
      "32/32 - 1s - loss: 0.3208 - mse: 0.3208 - val_loss: 0.1310 - val_mse: 0.1310 - 1s/epoch - 42ms/step\n",
      "Epoch 14/100\n",
      "32/32 - 1s - loss: 0.3177 - mse: 0.3177 - val_loss: 0.1290 - val_mse: 0.1290 - 1s/epoch - 47ms/step\n",
      "Epoch 15/100\n",
      "32/32 - 2s - loss: 0.3043 - mse: 0.3043 - val_loss: 0.1230 - val_mse: 0.1230 - 2s/epoch - 48ms/step\n",
      "Epoch 16/100\n",
      "32/32 - 1s - loss: 0.3018 - mse: 0.3018 - val_loss: 0.1184 - val_mse: 0.1184 - 1s/epoch - 41ms/step\n",
      "Epoch 17/100\n",
      "32/32 - 1s - loss: 0.2978 - mse: 0.2978 - val_loss: 0.1172 - val_mse: 0.1172 - 1s/epoch - 39ms/step\n",
      "Epoch 18/100\n",
      "32/32 - 1s - loss: 0.2887 - mse: 0.2887 - val_loss: 0.1185 - val_mse: 0.1185 - 1s/epoch - 38ms/step\n",
      "Epoch 19/100\n",
      "32/32 - 1s - loss: 0.2905 - mse: 0.2905 - val_loss: 0.1226 - val_mse: 0.1226 - 1s/epoch - 39ms/step\n",
      "Epoch 20/100\n",
      "32/32 - 1s - loss: 0.2922 - mse: 0.2922 - val_loss: 0.1226 - val_mse: 0.1226 - 1s/epoch - 38ms/step\n",
      "Epoch 21/100\n",
      "32/32 - 1s - loss: 0.2851 - mse: 0.2851 - val_loss: 0.1243 - val_mse: 0.1243 - 1s/epoch - 39ms/step\n",
      "Epoch 22/100\n",
      "32/32 - 1s - loss: 0.2943 - mse: 0.2943 - val_loss: 0.1186 - val_mse: 0.1186 - 1s/epoch - 37ms/step\n",
      "Epoch 23/100\n",
      "32/32 - 1s - loss: 0.2812 - mse: 0.2812 - val_loss: 0.1187 - val_mse: 0.1187 - 1s/epoch - 38ms/step\n",
      "Epoch 24/100\n",
      "32/32 - 1s - loss: 0.2832 - mse: 0.2832 - val_loss: 0.1189 - val_mse: 0.1189 - 1s/epoch - 37ms/step\n",
      "Epoch 25/100\n",
      "32/32 - 1s - loss: 0.2799 - mse: 0.2799 - val_loss: 0.1449 - val_mse: 0.1449 - 1s/epoch - 38ms/step\n",
      "Epoch 26/100\n",
      "32/32 - 1s - loss: 0.2862 - mse: 0.2862 - val_loss: 0.1163 - val_mse: 0.1163 - 1s/epoch - 46ms/step\n",
      "Epoch 27/100\n",
      "32/32 - 1s - loss: 0.2745 - mse: 0.2745 - val_loss: 0.1224 - val_mse: 0.1224 - 1s/epoch - 44ms/step\n",
      "Epoch 28/100\n",
      "32/32 - 1s - loss: 0.2734 - mse: 0.2734 - val_loss: 0.1176 - val_mse: 0.1176 - 1s/epoch - 39ms/step\n",
      "Epoch 29/100\n",
      "32/32 - 1s - loss: 0.2703 - mse: 0.2703 - val_loss: 0.1116 - val_mse: 0.1116 - 1s/epoch - 40ms/step\n",
      "Epoch 30/100\n",
      "32/32 - 1s - loss: 0.2750 - mse: 0.2750 - val_loss: 0.1116 - val_mse: 0.1116 - 1s/epoch - 38ms/step\n",
      "Epoch 31/100\n",
      "32/32 - 1s - loss: 0.2724 - mse: 0.2724 - val_loss: 0.1192 - val_mse: 0.1192 - 1s/epoch - 38ms/step\n",
      "Epoch 32/100\n",
      "32/32 - 1s - loss: 0.2690 - mse: 0.2690 - val_loss: 0.1128 - val_mse: 0.1128 - 1s/epoch - 39ms/step\n",
      "Epoch 33/100\n",
      "32/32 - 1s - loss: 0.2706 - mse: 0.2706 - val_loss: 0.1153 - val_mse: 0.1153 - 1s/epoch - 36ms/step\n",
      "Epoch 34/100\n",
      "32/32 - 1s - loss: 0.2770 - mse: 0.2770 - val_loss: 0.1179 - val_mse: 0.1179 - 1s/epoch - 38ms/step\n",
      "Epoch 35/100\n",
      "32/32 - 1s - loss: 0.2754 - mse: 0.2754 - val_loss: 0.1134 - val_mse: 0.1134 - 1s/epoch - 38ms/step\n",
      "Epoch 36/100\n",
      "32/32 - 1s - loss: 0.2651 - mse: 0.2651 - val_loss: 0.1108 - val_mse: 0.1108 - 1s/epoch - 39ms/step\n",
      "Epoch 37/100\n",
      "32/32 - 1s - loss: 0.2685 - mse: 0.2685 - val_loss: 0.1111 - val_mse: 0.1111 - 1s/epoch - 38ms/step\n",
      "Epoch 38/100\n",
      "32/32 - 1s - loss: 0.2749 - mse: 0.2749 - val_loss: 0.1146 - val_mse: 0.1146 - 1s/epoch - 39ms/step\n",
      "Epoch 39/100\n",
      "32/32 - 1s - loss: 0.2635 - mse: 0.2635 - val_loss: 0.1196 - val_mse: 0.1196 - 1s/epoch - 45ms/step\n",
      "Epoch 40/100\n",
      "32/32 - 1s - loss: 0.2757 - mse: 0.2757 - val_loss: 0.1077 - val_mse: 0.1077 - 1s/epoch - 42ms/step\n",
      "Epoch 41/100\n",
      "32/32 - 1s - loss: 0.2677 - mse: 0.2677 - val_loss: 0.1136 - val_mse: 0.1136 - 1s/epoch - 38ms/step\n",
      "Epoch 42/100\n",
      "32/32 - 1s - loss: 0.2712 - mse: 0.2712 - val_loss: 0.1075 - val_mse: 0.1075 - 1s/epoch - 42ms/step\n",
      "Epoch 43/100\n",
      "32/32 - 1s - loss: 0.2627 - mse: 0.2627 - val_loss: 0.1134 - val_mse: 0.1134 - 1s/epoch - 45ms/step\n",
      "Epoch 44/100\n",
      "32/32 - 1s - loss: 0.2716 - mse: 0.2716 - val_loss: 0.1083 - val_mse: 0.1083 - 1s/epoch - 41ms/step\n",
      "Epoch 45/100\n",
      "32/32 - 1s - loss: 0.2672 - mse: 0.2672 - val_loss: 0.1134 - val_mse: 0.1134 - 1s/epoch - 38ms/step\n",
      "Epoch 46/100\n",
      "32/32 - 1s - loss: 0.2717 - mse: 0.2717 - val_loss: 0.1216 - val_mse: 0.1216 - 1s/epoch - 37ms/step\n",
      "Epoch 47/100\n",
      "32/32 - 1s - loss: 0.2663 - mse: 0.2663 - val_loss: 0.1066 - val_mse: 0.1066 - 1s/epoch - 39ms/step\n",
      "Epoch 48/100\n",
      "32/32 - 1s - loss: 0.2666 - mse: 0.2666 - val_loss: 0.1161 - val_mse: 0.1161 - 1s/epoch - 39ms/step\n",
      "Epoch 49/100\n",
      "32/32 - 1s - loss: 0.2589 - mse: 0.2589 - val_loss: 0.1098 - val_mse: 0.1098 - 1s/epoch - 37ms/step\n",
      "Epoch 50/100\n",
      "32/32 - 1s - loss: 0.2665 - mse: 0.2665 - val_loss: 0.1084 - val_mse: 0.1084 - 1s/epoch - 38ms/step\n",
      "Epoch 51/100\n",
      "32/32 - 1s - loss: 0.2618 - mse: 0.2618 - val_loss: 0.1081 - val_mse: 0.1081 - 1s/epoch - 41ms/step\n",
      "Epoch 52/100\n",
      "32/32 - 1s - loss: 0.2544 - mse: 0.2544 - val_loss: 0.1108 - val_mse: 0.1108 - 1s/epoch - 43ms/step\n",
      "Epoch 53/100\n",
      "32/32 - 1s - loss: 0.2551 - mse: 0.2551 - val_loss: 0.1087 - val_mse: 0.1087 - 1s/epoch - 38ms/step\n",
      "Epoch 54/100\n",
      "32/32 - 1s - loss: 0.2667 - mse: 0.2667 - val_loss: 0.1320 - val_mse: 0.1320 - 1s/epoch - 38ms/step\n",
      "Epoch 55/100\n",
      "32/32 - 1s - loss: 0.2658 - mse: 0.2658 - val_loss: 0.1074 - val_mse: 0.1074 - 1s/epoch - 41ms/step\n",
      "Epoch 56/100\n",
      "32/32 - 1s - loss: 0.2612 - mse: 0.2612 - val_loss: 0.1122 - val_mse: 0.1122 - 1s/epoch - 38ms/step\n",
      "Epoch 57/100\n",
      "32/32 - 1s - loss: 0.2595 - mse: 0.2595 - val_loss: 0.1121 - val_mse: 0.1121 - 1s/epoch - 37ms/step\n",
      "dict_keys(['loss', 'mse', 'val_loss', 'val_mse'])\n"
     ]
    }
   ],
   "source": [
    "scaler = preprocessing.MinMaxScaler()\n",
    "seq_arrays_scaled = scaler.fit_transform(seq_arrays.reshape(seq_arrays.shape[0]*\n",
    "                                                            seq_arrays.shape[1],val_arrays.shape[2])).reshape(\n",
    "                        seq_arrays.shape)\n",
    "\n",
    "model_path = 'LSTM_model1.h5'\n",
    "\n",
    "# build the network\n",
    "nb_features = seq_arrays.shape[2]\n",
    "nb_out = 1 # since we're predicting one value, Global_active_power\n",
    "\n",
    "model = Sequential()\n",
    "\n",
    "#add first LSTM layer\n",
    "model.add(LSTM(\n",
    "         input_shape=(seq_length, nb_features),\n",
    "         units=10, \n",
    "         return_sequences=True))\n",
    "model.add(Dropout(0.2)) \n",
    "\n",
    "# add second LSTM layer\n",
    "model.add(LSTM(\n",
    "          units=10,\n",
    "          return_sequences=False))\n",
    "model.add(Dropout(0.2))\n",
    "model.add(Dense(units=nb_out))\n",
    "model.add(Activation(\"linear\")) \n",
    "optimizer = keras.optimizers.Adam(learning_rate = 0.01)\n",
    "model.compile(loss='mean_squared_error', optimizer=optimizer,metrics=['mse'])\n",
    "\n",
    "print(model.summary())\n",
    "\n",
    "# fit the network\n",
    "history = model.fit(seq_arrays_scaled, seq_labs, epochs=100, batch_size=500, validation_split=0.05, verbose=2,\n",
    "          callbacks = [keras.callbacks.EarlyStopping(monitor='val_loss', min_delta=0, patience=10, verbose=0, mode='min'),\n",
    "                       keras.callbacks.ModelCheckpoint(model_path,monitor='val_loss', save_best_only=True, mode='min', verbose=0)]\n",
    "          )\n",
    "\n",
    "# list all data in history\n",
    "print(history.history.keys())"
   ]
  },
  {
   "cell_type": "code",
   "execution_count": 17,
   "id": "d22b9a0b",
   "metadata": {},
   "outputs": [
    {
     "name": "stdout",
     "output_type": "stream",
     "text": [
      "129/129 - 1s - loss: 0.0943 - mse: 0.0943 - 1s/epoch - 10ms/step\n",
      "\n",
      "MSE: 0.09426715970039368\n",
      "129/129 [==============================] - 2s 7ms/step\n"
     ]
    },
    {
     "data": {
      "image/png": "[encoded data removed]",
      "text/plain": [
       "<Figure size 720x360 with 1 Axes>"
      ]
     },
     "metadata": {
      "needs_background": "light"
     },
     "output_type": "display_data"
    }
   ],
   "source": [
    "# show me how one or two of your different models perform \n",
    "# using the code from the \"Validating our model\" section above\n",
    "\n",
    "val_arrays_scaled = scaler.transform(val_arrays.reshape(val_arrays.shape[0]*\n",
    "                                                            val_arrays.shape[1],val_arrays.shape[2])).reshape(\n",
    "                        val_arrays.shape)\n",
    "scores_test = model.evaluate(val_arrays_scaled, val_labs, verbose=2)\n",
    "print('\\nMSE: {}'.format(scores_test[1]))\n",
    "\n",
    "y_pred_test = model.predict(val_arrays_scaled)\n",
    "y_true_test = val_labs\n",
    "\n",
    "test_set = pd.DataFrame(y_pred_test)\n",
    "test_set.to_csv('submit_test.csv', index = None)\n",
    "\n",
    "# Plot the predicted data vs. the actual data\n",
    "# we will limit our plot to the first 200 predictions for better visualization\n",
    "fig_verify = plt.figure(figsize=(10, 5))\n",
    "plt.plot(y_pred_test[-500:], label = 'Predicted Value')\n",
    "plt.plot(y_true_test[-500:], label = 'Actual Value')\n",
    "plt.title('Global Active Power Prediction - Last 500 Points', fontsize=22, fontweight='bold')\n",
    "plt.ylabel('value')\n",
    "plt.xlabel('row')\n",
    "plt.legend()\n",
    "plt.show()\n",
    "fig_verify.savefig(\"model_regression_verify.png\")"
   ]
  },
  {
   "cell_type": "markdown",
   "id": "c3ccb037",
   "metadata": {},
   "source": [
    "**Q: How did your model changes affect performance on the validation data? Why do you think they were/were not effective? If you were trying to optimize for production, what would you try next?**\n",
    "\n",
    "A: I scaled the input data first and it got better performance. Then I added `Voltage` as a second parameter and it performed worse, MSE was about $0.34$. I thought that this probably means that our model is too simple to understand the relationship between the input variables and output variable so I increased the number of units for the first and second layers to $10$ for both and then retrained the model and it gave us this improvement. What I would do next is perhaps add more variables to the input. I would experiment with some of the parameters like the learning rate for the `adam` optimizer. I would perhaps add even more units and layers within reason, of course, as we don't want the model to be too complex especially if we're training and maintaining it on the edge.\n",
    "\n",
    "**Q: How did the models that you built in this assignment compare to the linear regression model from last week? Think about model performance and other IoT device considerations; Which model would you choose to use in an IoT system that predicts GAP for a single household with a 5-minute predictive horizon, and why?**\n",
    "\n",
    "A: This model performed better than the linear regression one as to be expected. The data isn't linear and so we can't expect to get perfect results with a linear model. LSTM is much more sophisticated and advanced so it's better at capturing relationships between input and output variables. If performance is the only thing we're concerned with then of course I would go with the better model but it's a heavier model to train and maintain and thus we run into issues with hardware specifications, size, cost, and speed."
   ]
  }
 ],
 "metadata": {
  "kernelspec": {
   "display_name": "Python 3 (ipykernel)",
   "language": "python",
   "name": "python3"
  },
  "language_info": {
   "codemirror_mode": {
    "name": "ipython",
    "version": 3
   },
   "file_extension": ".py",
   "mimetype": "text/x-python",
   "name": "python",
   "nbconvert_exporter": "python",
   "pygments_lexer": "ipython3",
   "version": "3.9.7"
  }
 },
 "nbformat": 4,
 "nbformat_minor": 5
}
