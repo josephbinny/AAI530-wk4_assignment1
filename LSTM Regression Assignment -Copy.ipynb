{
 "cells": [
  {
   "cell_type": "markdown",
   "id": "699648d0",
   "metadata": {},
   "source": [
    "# Long Short Term Memory Networks for IoT Prediction\n",
    "\n",
    "RNNs and LSTM models are very popular neural network architectures when working with sequential data, since they both carry some \"memory\" of previous inputs when predicting the next output. In this assignment we will continue to work with the Household Electricity Consumption dataset and use an LSTM model to predict the Global Active Power (GAP) from a sequence of previous GAP readings. You will build one model following the directions in this notebook closely, then you will be asked to make changes to that original model and analyze the effects that they had on the model performance. You will also be asked to compare the performance of your LSTM model to the linear regression predictor that you built in last week's assignment.\n",
    "\n",
    "## General Assignment Instructions\n",
    "\n",
    "These instructions are included in every assignment, to remind you of the coding standards for the class. Feel free to delete this cell after reading it. \n",
    "\n",
    "One sign of mature code is conforming to a style guide. We recommend the [Google Python Style Guide](https://google.github.io/styleguide/pyguide.html). If you use a different style guide, please include a cell with a link. \n",
    "\n",
    "Your code should be relatively easy-to-read, sensibly commented, and clean. Writing code is a messy process, so please be sure to edit your final submission. Remove any cells that are not needed or parts of cells that contain unnecessary code. Remove inessential `import` statements and make sure that all such statements are moved into the designated cell. \n",
    "\n",
    "When you save your notebook as a pdf, make sure that all cell output is visible (even error messages) as this will aid your instructor in grading your work.\n",
    "\n",
    "Make use of non-code cells for written commentary. These cells should be grammatical and clearly written. In some of these cells you will have questions to answer. The questions will be marked by a \"Q:\" and will have a corresponding \"A:\" spot for you. *Make sure to answer every question marked with a `Q:` for full credit.* "
   ]
  },
  {
   "cell_type": "code",
   "execution_count": 1,
   "id": "96422f5e",
   "metadata": {},
   "outputs": [],
   "source": [
    "import keras\n",
    "import pandas as pd\n",
    "import numpy as np\n",
    "import matplotlib.pyplot as plt\n",
    "import os\n",
    "\n",
    "# Setting seed for reproducibility\n",
    "np.random.seed(1234)  \n",
    "PYTHONHASHSEED = 0\n",
    "\n",
    "from sklearn import preprocessing\n",
    "from sklearn.metrics import confusion_matrix, recall_score, precision_score\n",
    "from sklearn.model_selection import train_test_split\n",
    "from keras.models import Sequential,load_model\n",
    "from keras.layers import Dense, Dropout, LSTM\n",
    "from keras.layers.core import Activation\n",
    "from keras.utils import pad_sequences"
   ]
  },
  {
   "cell_type": "code",
   "execution_count": 2,
   "id": "cb722f08",
   "metadata": {},
   "outputs": [],
   "source": [
    "#use this cell to import additional libraries or define helper functions"
   ]
  },
  {
   "cell_type": "markdown",
   "id": "93d897e4",
   "metadata": {},
   "source": [
    "## Load and prepare your data\n",
    "\n",
    "We'll once again be using the cleaned household electricity consumption data from the previous two assignments.\n",
    "\n",
    "Unlike when using Linear Regression to make our predictions for Global Active Power (GAP), LSTM requires that we have a pre-trained model when our predictive software is shipped (the ability to iterate on the model after it's put into production is another question for another day). Thus, we will train the model on a segment of our data and then measure its performance on simulated streaming data another segment of the data. Our dataset is very large, so for speed's sake, we will limit ourselves to 1% of the entire dataset.\n",
    "\n",
    "**TODO: Import your data, select the a random 1% of the dataset, and then split it 80/20 into training and validation sets (the test split will come from the training data as part of the tensorflow LSTM model call). HINT: Think carefully about how you do your train/validation split--does it make sense to randomize the data?**"
   ]
  },
  {
   "cell_type": "code",
   "execution_count": 72,
   "id": "4db3cf86",
   "metadata": {},
   "outputs": [
    {
     "name": "stderr",
     "output_type": "stream",
     "text": [
      "C:\\Users\\yousi\\AppData\\Local\\Temp\\ipykernel_106176\\3585972411.py:2: DtypeWarning: Columns (2,3,4,5,6,7) have mixed types. Specify dtype option on import or set low_memory=False.\n",
      "  df = pd.read_csv(\"household_power_consumption.txt\", delimiter=\";\")\n",
      "C:\\Users\\yousi\\AppData\\Local\\Temp\\ipykernel_106176\\3585972411.py:6: FutureWarning: In a future version, `df.iloc[:, i] = newvals` will attempt to set the values inplace instead of always setting a new array. To retain the old behavior, use either `df[df.columns[i]] = newvals` or, if columns are non-unique, `df.isetitem(i, newvals)`\n",
      "  df.iloc[:,2:-1] = df.iloc[:,2:-1].apply(pd.to_numeric)\n"
     ]
    }
   ],
   "source": [
    "#Load your data into a pandas dataframe here\n",
    "df = pd.read_csv(\"household_power_consumption.txt\", delimiter=\";\")\n",
    "df[\"Datetime\"] = pd.to_datetime(df[\"Date\"] + \" \" + df[\"Time\"])\n",
    "df.replace(\"?\", np.nan, inplace=True)\n",
    "df.dropna(inplace=True)\n",
    "df.iloc[:,2:-1] = df.iloc[:,2:-1].apply(pd.to_numeric)\n",
    "df['Date'] = df['Datetime'].dt.date\n",
    "df['Time'] = df['Datetime'].dt.time"
   ]
  },
  {
   "cell_type": "code",
   "execution_count": 73,
   "id": "b4a7845e",
   "metadata": {},
   "outputs": [],
   "source": [
    "#create your training and validation sets here\n",
    "\n",
    "#assign size for data subset\n",
    "one_percent_len = int(len(df)*.01) # this tells us how big our smaller dataset will be\n",
    "\n",
    "#take random data subset\n",
    "# the following picks the first index of a random 1% of the data\n",
    "starting_index = np.random.randint(0,len(df)-one_percent_len) # subtract the range from the 1% len to stay in the range\n",
    "df_smaller = df.iloc[starting_index:starting_index+one_percent_len,:]\n",
    "\n",
    "#split data subset 80/20 for train/validation\n",
    "\n",
    "train_df = df_smaller.iloc[:int(len(df_smaller)*.8),:]\n",
    "val_df = df_smaller.iloc[int(len(df_smaller)*.8):,:]"
   ]
  },
  {
   "cell_type": "code",
   "execution_count": 74,
   "id": "4d0a7b27",
   "metadata": {},
   "outputs": [],
   "source": [
    "#reset the indices for cleanliness\n",
    "train_df = train_df.reset_index()\n",
    "val_df = val_df.reset_index()"
   ]
  },
  {
   "cell_type": "markdown",
   "id": "b4a34258",
   "metadata": {},
   "source": [
    "Next we need to create our input and output sequences. In the lab session this week, we used an LSTM model to make a binary prediction, but LSTM models are very flexible in what they can output: we can also use them to predict a single real-numbered output (we can even use them to predict a sequence of outputs). Here we will train a model to predict a single real-numbered output such that we can compare our model directly to the linear regression model from last week.\n",
    "\n",
    "**TODO: Create a nested list structure for the training data, with a sequence of GAP measurements as the input and the GAP measurement at your predictive horizon as your expected output**"
   ]
  },
  {
   "cell_type": "code",
   "execution_count": 79,
   "id": "807b5117",
   "metadata": {},
   "outputs": [],
   "source": [
    "seq_arrays = []\n",
    "seq_labs = []"
   ]
  },
  {
   "cell_type": "code",
   "execution_count": 80,
   "id": "17b6475e",
   "metadata": {
    "scrolled": false
   },
   "outputs": [],
   "source": [
    "# we'll start out with a 20 minute input sequence and a one minute predictive horizon\n",
    "seq_length = 20\n",
    "ph = 1\n",
    "\n",
    "feat_cols = ['Global_active_power']\n",
    "\n",
    "#create list of sequence length GAP readings\n",
    "for curr_time in range(len(train_df)-(seq_length+ph)):\n",
    "    seq_arrays.append(train_df[feat_cols].iloc[curr_time:curr_time+seq_length].to_numpy())\n",
    "    seq_labs.append(train_df[feat_cols].iloc[curr_time+seq_length+ph].to_numpy()[0])\n",
    "        \n",
    "\n",
    "#convert to numpy arrays and floats to appease keras/tensorflow        \n",
    "seq_arrays = np.array(seq_arrays, dtype = object).astype(np.float32)\n",
    "seq_labs = np.array(seq_labs, dtype = object).astype(np.float32)"
   ]
  },
  {
   "cell_type": "code",
   "execution_count": 81,
   "id": "2f5c2abf",
   "metadata": {},
   "outputs": [],
   "source": [
    "assert(seq_arrays.shape == (len(train_df)-seq_length-ph,seq_length, len(feat_cols)))\n",
    "assert(seq_labs.shape == (len(train_df)-seq_length-ph,))"
   ]
  },
  {
   "cell_type": "code",
   "execution_count": 85,
   "id": "a16c46a0",
   "metadata": {},
   "outputs": [
    {
     "data": {
      "text/plain": [
       "(16372, 20, 1)"
      ]
     },
     "execution_count": 85,
     "metadata": {},
     "output_type": "execute_result"
    }
   ],
   "source": [
    "seq_arrays.shape"
   ]
  },
  {
   "cell_type": "markdown",
   "id": "cfb66dc2",
   "metadata": {},
   "source": [
    "**Q: What is the function of the assert statements in the above cell? Why do we use assertions in our code?**\n",
    "\n",
    "A: This keyword is used to test a condition. It throws out an AssertionError when the condition evaluates to False. It is a helpful tool in debugging code.\n",
    "\n",
    "## Model Training\n",
    "\n",
    "We will begin with a model architecture very similar to the model we built in the lab session. We will have two LSTM layers, with 5 and 3 hidden units respectively, and we will apply dropout after each LSTM layer. However, we will use a linear final layer and MSE for our loss function, since our output is continuous instead of binary.\n",
    "\n",
    "**TODO: Fill in all values marked with a ?? in the cell below**"
   ]
  },
  {
   "cell_type": "code",
   "execution_count": 86,
   "id": "4a57c132",
   "metadata": {},
   "outputs": [
    {
     "name": "stdout",
     "output_type": "stream",
     "text": [
      "Model: \"sequential_6\"\n",
      "_________________________________________________________________\n",
      " Layer (type)                Output Shape              Param #   \n",
      "=================================================================\n",
      " lstm_12 (LSTM)              (None, 20, 5)             140       \n",
      "                                                                 \n",
      " dropout_12 (Dropout)        (None, 20, 5)             0         \n",
      "                                                                 \n",
      " lstm_13 (LSTM)              (None, 3)                 108       \n",
      "                                                                 \n",
      " dropout_13 (Dropout)        (None, 3)                 0         \n",
      "                                                                 \n",
      " dense_6 (Dense)             (None, 1)                 4         \n",
      "                                                                 \n",
      " activation_3 (Activation)   (None, 1)                 0         \n",
      "                                                                 \n",
      "=================================================================\n",
      "Total params: 252\n",
      "Trainable params: 252\n",
      "Non-trainable params: 0\n",
      "_________________________________________________________________\n",
      "None\n",
      "Epoch 1/100\n",
      "32/32 - 5s - loss: 0.8219 - mse: 0.8219 - val_loss: 0.7060 - val_mse: 0.7060 - 5s/epoch - 144ms/step\n",
      "Epoch 2/100\n",
      "32/32 - 1s - loss: 0.4103 - mse: 0.4103 - val_loss: 0.3551 - val_mse: 0.3551 - 622ms/epoch - 19ms/step\n",
      "Epoch 3/100\n",
      "32/32 - 1s - loss: 0.2883 - mse: 0.2883 - val_loss: 0.2515 - val_mse: 0.2515 - 600ms/epoch - 19ms/step\n",
      "Epoch 4/100\n",
      "32/32 - 1s - loss: 0.2603 - mse: 0.2603 - val_loss: 0.2265 - val_mse: 0.2265 - 579ms/epoch - 18ms/step\n",
      "Epoch 5/100\n",
      "32/32 - 1s - loss: 0.2275 - mse: 0.2275 - val_loss: 0.2058 - val_mse: 0.2058 - 513ms/epoch - 16ms/step\n",
      "Epoch 6/100\n",
      "32/32 - 1s - loss: 0.2143 - mse: 0.2143 - val_loss: 0.2049 - val_mse: 0.2049 - 538ms/epoch - 17ms/step\n",
      "Epoch 7/100\n",
      "32/32 - 1s - loss: 0.2068 - mse: 0.2068 - val_loss: 0.2041 - val_mse: 0.2041 - 595ms/epoch - 19ms/step\n",
      "Epoch 8/100\n",
      "32/32 - 1s - loss: 0.1914 - mse: 0.1914 - val_loss: 0.1807 - val_mse: 0.1807 - 568ms/epoch - 18ms/step\n",
      "Epoch 9/100\n",
      "32/32 - 1s - loss: 0.1873 - mse: 0.1873 - val_loss: 0.1869 - val_mse: 0.1869 - 605ms/epoch - 19ms/step\n",
      "Epoch 10/100\n",
      "32/32 - 1s - loss: 0.1853 - mse: 0.1853 - val_loss: 0.2039 - val_mse: 0.2039 - 702ms/epoch - 22ms/step\n",
      "Epoch 11/100\n",
      "32/32 - 1s - loss: 0.1869 - mse: 0.1869 - val_loss: 0.1777 - val_mse: 0.1777 - 573ms/epoch - 18ms/step\n",
      "Epoch 12/100\n",
      "32/32 - 1s - loss: 0.1895 - mse: 0.1895 - val_loss: 0.1614 - val_mse: 0.1614 - 601ms/epoch - 19ms/step\n",
      "Epoch 13/100\n",
      "32/32 - 1s - loss: 0.1744 - mse: 0.1744 - val_loss: 0.1636 - val_mse: 0.1636 - 577ms/epoch - 18ms/step\n",
      "Epoch 14/100\n",
      "32/32 - 1s - loss: 0.1801 - mse: 0.1801 - val_loss: 0.1792 - val_mse: 0.1792 - 539ms/epoch - 17ms/step\n",
      "Epoch 15/100\n",
      "32/32 - 1s - loss: 0.1746 - mse: 0.1746 - val_loss: 0.1794 - val_mse: 0.1794 - 603ms/epoch - 19ms/step\n",
      "Epoch 16/100\n",
      "32/32 - 1s - loss: 0.1849 - mse: 0.1849 - val_loss: 0.1682 - val_mse: 0.1682 - 600ms/epoch - 19ms/step\n",
      "Epoch 17/100\n",
      "32/32 - 1s - loss: 0.1706 - mse: 0.1706 - val_loss: 0.1785 - val_mse: 0.1785 - 543ms/epoch - 17ms/step\n",
      "Epoch 18/100\n",
      "32/32 - 1s - loss: 0.1755 - mse: 0.1755 - val_loss: 0.1650 - val_mse: 0.1650 - 641ms/epoch - 20ms/step\n",
      "Epoch 19/100\n",
      "32/32 - 1s - loss: 0.1778 - mse: 0.1778 - val_loss: 0.1566 - val_mse: 0.1566 - 684ms/epoch - 21ms/step\n",
      "Epoch 20/100\n",
      "32/32 - 1s - loss: 0.1730 - mse: 0.1730 - val_loss: 0.1687 - val_mse: 0.1687 - 1s/epoch - 40ms/step\n",
      "Epoch 21/100\n",
      "32/32 - 2s - loss: 0.1805 - mse: 0.1805 - val_loss: 0.1708 - val_mse: 0.1708 - 2s/epoch - 67ms/step\n",
      "Epoch 22/100\n",
      "32/32 - 3s - loss: 0.1770 - mse: 0.1770 - val_loss: 0.1663 - val_mse: 0.1663 - 3s/epoch - 78ms/step\n",
      "Epoch 23/100\n",
      "32/32 - 2s - loss: 0.1667 - mse: 0.1667 - val_loss: 0.1723 - val_mse: 0.1723 - 2s/epoch - 54ms/step\n",
      "Epoch 24/100\n",
      "32/32 - 1s - loss: 0.1687 - mse: 0.1687 - val_loss: 0.1653 - val_mse: 0.1653 - 1s/epoch - 41ms/step\n",
      "Epoch 25/100\n",
      "32/32 - 1s - loss: 0.1673 - mse: 0.1673 - val_loss: 0.1533 - val_mse: 0.1533 - 1s/epoch - 36ms/step\n",
      "Epoch 26/100\n",
      "32/32 - 1s - loss: 0.1687 - mse: 0.1687 - val_loss: 0.1581 - val_mse: 0.1581 - 1s/epoch - 33ms/step\n",
      "Epoch 27/100\n",
      "32/32 - 1s - loss: 0.1785 - mse: 0.1785 - val_loss: 0.1612 - val_mse: 0.1612 - 1s/epoch - 35ms/step\n",
      "Epoch 28/100\n",
      "32/32 - 1s - loss: 0.1742 - mse: 0.1742 - val_loss: 0.1714 - val_mse: 0.1714 - 1s/epoch - 34ms/step\n",
      "Epoch 29/100\n",
      "32/32 - 1s - loss: 0.1740 - mse: 0.1740 - val_loss: 0.1750 - val_mse: 0.1750 - 1s/epoch - 32ms/step\n",
      "Epoch 30/100\n",
      "32/32 - 1s - loss: 0.1759 - mse: 0.1759 - val_loss: 0.1708 - val_mse: 0.1708 - 1s/epoch - 32ms/step\n",
      "Epoch 31/100\n",
      "32/32 - 1s - loss: 0.1719 - mse: 0.1719 - val_loss: 0.1986 - val_mse: 0.1986 - 1s/epoch - 31ms/step\n",
      "Epoch 32/100\n",
      "32/32 - 1s - loss: 0.1701 - mse: 0.1701 - val_loss: 0.1810 - val_mse: 0.1810 - 993ms/epoch - 31ms/step\n",
      "Epoch 33/100\n",
      "32/32 - 1s - loss: 0.1702 - mse: 0.1702 - val_loss: 0.1650 - val_mse: 0.1650 - 1s/epoch - 32ms/step\n",
      "Epoch 34/100\n",
      "32/32 - 1s - loss: 0.1712 - mse: 0.1712 - val_loss: 0.1730 - val_mse: 0.1730 - 985ms/epoch - 31ms/step\n",
      "Epoch 35/100\n",
      "32/32 - 1s - loss: 0.1631 - mse: 0.1631 - val_loss: 0.1847 - val_mse: 0.1847 - 981ms/epoch - 31ms/step\n",
      "dict_keys(['loss', 'mse', 'val_loss', 'val_mse'])\n"
     ]
    }
   ],
   "source": [
    "# define path to save model\n",
    "model_path = 'LSTM_model1.h5'\n",
    "\n",
    "# build the network\n",
    "nb_features = seq_arrays.shape[2]\n",
    "nb_out = 1 # since we're predicting one value, Global_active_power\n",
    "\n",
    "model = Sequential()\n",
    "\n",
    "#add first LSTM layer\n",
    "model.add(LSTM(\n",
    "         input_shape=(seq_length, nb_features),\n",
    "         units=5, \n",
    "         return_sequences=True))\n",
    "model.add(Dropout(0.2)) \n",
    "\n",
    "# add second LSTM layer\n",
    "model.add(LSTM(\n",
    "          units=3,\n",
    "          return_sequences=False))\n",
    "model.add(Dropout(0.2))\n",
    "model.add(Dense(units=nb_out))\n",
    "model.add(Activation(\"linear\")) \n",
    "optimizer = keras.optimizers.Adam(learning_rate = 0.01)\n",
    "model.compile(loss='mean_squared_error', optimizer=optimizer,metrics=['mse'])\n",
    "\n",
    "print(model.summary())\n",
    "\n",
    "# fit the network\n",
    "history = model.fit(seq_arrays, seq_labs, epochs=100, batch_size=500, validation_split=0.05, verbose=2,\n",
    "          callbacks = [keras.callbacks.EarlyStopping(monitor='val_loss', min_delta=0, patience=10, verbose=0, mode='min'),\n",
    "                       keras.callbacks.ModelCheckpoint(model_path,monitor='val_loss', save_best_only=True, mode='min', verbose=0)]\n",
    "          )\n",
    "\n",
    "# list all data in history\n",
    "print(history.history.keys())"
   ]
  },
  {
   "cell_type": "markdown",
   "id": "1c5dd990",
   "metadata": {},
   "source": [
    "We will use the code from the book to visualize our training progress and model performance"
   ]
  },
  {
   "cell_type": "code",
   "execution_count": 87,
   "id": "18d4d9ec",
   "metadata": {},
   "outputs": [
    {
     "data": {
      "image/png": "[encoded data removed]",
      "text/plain": [
       "<Figure size 720x720 with 1 Axes>"
      ]
     },
     "metadata": {
      "needs_background": "light"
     },
     "output_type": "display_data"
    },
    {
     "data": {
      "image/png": "[encoded data removed]",
      "text/plain": [
       "<Figure size 720x720 with 1 Axes>"
      ]
     },
     "metadata": {
      "needs_background": "light"
     },
     "output_type": "display_data"
    }
   ],
   "source": [
    "# summarize history for MSE\n",
    "fig_acc = plt.figure(figsize=(10, 10))\n",
    "plt.plot(history.history['mse'])\n",
    "plt.plot(history.history['val_mse'])\n",
    "plt.title('model MSE')\n",
    "plt.ylabel('MSE')\n",
    "plt.xlabel('epoch')\n",
    "plt.legend(['train', 'test'], loc='upper left')\n",
    "plt.show()\n",
    "fig_acc.savefig(\"LSTM_mse1.png\")\n",
    "\n",
    "# summarize history for Loss\n",
    "fig_acc = plt.figure(figsize=(10, 10))\n",
    "plt.plot(history.history['loss'])\n",
    "plt.plot(history.history['val_loss'])\n",
    "plt.title('model loss')\n",
    "plt.ylabel('loss')\n",
    "plt.xlabel('epoch')\n",
    "plt.legend(['train', 'test'], loc='upper left')\n",
    "plt.show()\n",
    "fig_acc.savefig(\"LSTM_loss1.png\")\n"
   ]
  },
  {
   "cell_type": "markdown",
   "id": "a0522509",
   "metadata": {},
   "source": [
    "## Validating our model\n",
    "\n",
    "Now we need to create our simulated streaming validation set to test our model \"in production\". With our linear regression models, we were able to begin making predictions with only two datapoints, but the LSTM model requires an input sequence of *seq_length* to make a prediction. We can get around this limitation by \"padding\" our inputs when they are too short.\n",
    "\n",
    "**TODO: create a nested list structure for the validation data, with a sequence of GAP measurements as the input and the GAP measurement at your predictive horizon as your expected output. Begin your predictions after only two GAP measurements are available, and check out [this keras function](https://www.tensorflow.org/api_docs/python/tf/keras/utils/pad_sequences) to automatically pad sequences that are too short.**\n",
    "\n",
    "**Q: Describe the pad_sequences function and how it manages sequences of variable length. What does the \"padding\" argument determine, and which setting makes the most sense for our use case here?**\n",
    "\n",
    "A: "
   ]
  },
  {
   "cell_type": "code",
   "execution_count": null,
   "id": "823ea44c",
   "metadata": {},
   "outputs": [],
   "source": [
    "val_arrays = []\n",
    "val_labs = []\n",
    "\n",
    "#create list of GAP readings starting with a minimum of two readings\n",
    "\n",
    "\n",
    "# use the pad_sequences function on your input sequences\n",
    "# remember that we will later want our datatype to be np.float32 \n",
    "val_arrays =    \n",
    "        \n",
    "#convert labels to numpy arrays and floats to appease keras/tensorflow\n",
    "val_labs = np.array(val_labs, dtype = object).astype(np.float32)\n"
   ]
  },
  {
   "cell_type": "markdown",
   "id": "a553f881",
   "metadata": {},
   "source": [
    "We will now run this validation data through our LSTM model and visualize its performance like we did on the linear regression data."
   ]
  },
  {
   "cell_type": "code",
   "execution_count": null,
   "id": "eaaf0946",
   "metadata": {},
   "outputs": [],
   "source": [
    "scores_test = model.evaluate(val_arrays, val_labs, verbose=2)\n",
    "print('\\nMSE: {}'.format(scores_test[1]))\n",
    "\n",
    "y_pred_test = model.predict(val_arrays)\n",
    "y_true_test = val_labs\n",
    "\n",
    "test_set = pd.DataFrame(y_pred_test)\n",
    "test_set.to_csv('submit_test.csv', index = None)\n",
    "\n",
    "# Plot the predicted data vs. the actual data\n",
    "# we will limit our plot to the first 200 predictions for better visualization\n",
    "fig_verify = plt.figure(figsize=(10, 5))\n",
    "plt.plot(y_pred_test[-500:], label = 'Predicted Value')\n",
    "plt.plot(y_true_test[-500:], label = 'Actual Value')\n",
    "plt.title('Global Active Power Prediction - Last 500 Points', fontsize=22, fontweight='bold')\n",
    "plt.ylabel('value')\n",
    "plt.xlabel('row')\n",
    "plt.legend()\n",
    "plt.show()\n",
    "fig_verify.savefig(\"model_regression_verify.png\")"
   ]
  },
  {
   "cell_type": "markdown",
   "id": "fb5fcbe0",
   "metadata": {},
   "source": [
    "**Q: How did your model perform? What can you tell about the model from the loss curves? What could we do to try to improve the model?**\n",
    "\n",
    "A: \n",
    "\n",
    "\n",
    "## Model Optimization\n",
    "\n",
    "Now it's your turn to build an LSTM-based model in hopes of improving performance on this training set. Changes that you might consider include:\n",
    "\n",
    "- Add more variables to the input sequences\n",
    "- Change the optimizer and/or adjust the learning rate\n",
    "- Change the sequence length and/or the predictive horizon\n",
    "- Change the number of hidden layers in each of the LSTM layers\n",
    "- Change the model architecture altogether--think about adding convolutional layers, linear layers, additional regularization, creating embeddings for the input data, changing the loss function, etc.\n",
    "\n",
    "There isn't any minimum performance increase or number of changes that need to be made, but I want to see that you have tried some different things. Remember that building and optimizing deep learning networks is an art and can be very difficult, so don't make yourself crazy trying to optimize for this assignment.\n",
    "\n",
    "**Q: What changes are you going to try with your model? Why do you think these changes could improve model performance?**\n",
    "\n",
    "A:"
   ]
  },
  {
   "cell_type": "code",
   "execution_count": null,
   "id": "e50afded",
   "metadata": {},
   "outputs": [],
   "source": [
    "# play with your ideas for optimization here\n"
   ]
  },
  {
   "cell_type": "code",
   "execution_count": null,
   "id": "d22b9a0b",
   "metadata": {},
   "outputs": [],
   "source": [
    "# show me how one or two of your different models perform \n",
    "# using the code from the \"Validating our model\" section above\n"
   ]
  },
  {
   "cell_type": "markdown",
   "id": "c3ccb037",
   "metadata": {},
   "source": [
    "**Q: How did your model changes affect performance on the validation data? Why do you think they were/were not effective? If you were trying to optimize for production, what would you try next?**\n",
    "\n",
    "A: \n",
    "\n",
    "**Q: How did the models that you built in this assignment compare to the linear regression model from last week? Think about model performance and other IoT device considerations; Which model would you choose to use in an IoT system that predicts GAP for a single household with a 5-minute predictive horizon, and why?**\n",
    "\n",
    "A: "
   ]
  }
 ],
 "metadata": {
  "kernelspec": {
   "display_name": "Python 3 (ipykernel)",
   "language": "python",
   "name": "python3"
  },
  "language_info": {
   "codemirror_mode": {
    "name": "ipython",
    "version": 3
   },
   "file_extension": ".py",
   "mimetype": "text/x-python",
   "name": "python",
   "nbconvert_exporter": "python",
   "pygments_lexer": "ipython3",
   "version": "3.9.7"
  }
 },
 "nbformat": 4,
 "nbformat_minor": 5
}
